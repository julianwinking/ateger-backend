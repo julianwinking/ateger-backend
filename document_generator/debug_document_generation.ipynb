{
 "cells": [
  {
   "cell_type": "markdown",
   "id": "af118cc9",
   "metadata": {},
   "source": [
    "# Debug Document Generation\n",
    "This notebook is designed to test the document generation process using the `ReportGenerator` class."
   ]
  },
  {
   "cell_type": "code",
   "execution_count": 7,
   "id": "9fb815ec",
   "metadata": {},
   "outputs": [],
   "source": [
    "# Import Required Libraries\n",
    "import asyncio\n",
    "import os\n",
    "from unittest.mock import MagicMock\n",
    "from report_generator import ReportGenerator"
   ]
  },
  {
   "cell_type": "markdown",
   "id": "5805ab17",
   "metadata": {},
   "source": [
    "## Mock Teaser Data\n",
    "We will use mock data to test the document generation process without relying on external APIs."
   ]
  },
  {
   "cell_type": "code",
   "execution_count": 8,
   "id": "2d845300",
   "metadata": {},
   "outputs": [],
   "source": [
    "# Create a mock teaser object\n",
    "mock_teaser = MagicMock()\n",
    "mock_teaser.id = 999\n",
    "mock_teaser.gpt_analysis = {\n",
    "    'Teaser Summary': 'This is a mock teaser summary.',\n",
    "    'Company Profile': 'Mock company profile content.',\n",
    "    'Customer & Demand Analysis': 'Mock customer and demand analysis.',\n",
    "    'Industry & Competitive Landscape': 'Mock industry landscape.',\n",
    "    'Commercial Strategy': 'Mock commercial strategy.',\n",
    "    'Talent Development': 'Mock talent development.',\n",
    "    'Market Growth and Trends': 'Mock market growth.',\n",
    "    'Breadth Analysis': 'Mock breadth analysis.',\n",
    "    'Forces Analysis': 'Mock forces analysis.',\n",
    "    'Moat Identification': 'Mock moat identification.',\n",
    "    'Key Value Creation Drivers & Risks': 'Mock value creation and risks.',\n",
    "    'Compensation & Ownership Structure': 'Mock ownership structure.',\n",
    "    'Related-party transactions': 'Mock related-party transactions.',\n",
    "    'Share repurchases': 'Mock share repurchases.',\n",
    "    'Dividends': 'Mock dividends.',\n",
    "    'Risk': 'Mock risk analysis.',\n",
    "    'Synergies': 'Mock synergies.',\n",
    "    'Investment Criteria': 'Mock investment criteria.',\n",
    "    'Exit perspective': 'Mock exit perspective.',\n",
    "    'Graveyard': 'Mock graveyard analysis.'\n",
    "}"
   ]
  },
  {
   "cell_type": "markdown",
   "id": "71631eb3",
   "metadata": {},
   "source": [
    "## Generate Report\n",
    "Use the `ReportGenerator` class to generate a PDF report from the mock data."
   ]
  },
  {
   "cell_type": "code",
   "execution_count": 9,
   "id": "6f7d8e21",
   "metadata": {},
   "outputs": [
    {
     "name": "stderr",
     "output_type": "stream",
     "text": [
      "INFO:report_generator:Starting report generation for mock_teaser_report_999.pdf\n",
      "INFO:report_generator:Checking if reports directory exists: reports\n",
      "INFO:report_generator:Report will be generated at: reports/mock_teaser_report_999.pdf\n",
      "INFO:report_generator:Creating PDF document\n",
      "INFO:report_generator:Processing section: Teaser Summary\n",
      "INFO:report_generator:  Added content for Teaser Summary: 30 chars\n",
      "INFO:report_generator:Processing section: Company Profile\n",
      "INFO:report_generator:  Added content for Company Profile: 29 chars\n",
      "INFO:report_generator:Processing section: Customer & Demand Analysis\n",
      "INFO:report_generator:  Added content for Customer & Demand Analysis: 34 chars\n",
      "INFO:report_generator:Processing section: Industry & Competitive Landscape\n",
      "INFO:report_generator:  Added content for Industry & Competitive Landscape: 24 chars\n",
      "INFO:report_generator:Processing section: Commercial Strategy\n",
      "INFO:report_generator:  Added content for Commercial Strategy: 25 chars\n",
      "INFO:report_generator:Processing section: Talent Development\n",
      "INFO:report_generator:  Added content for Talent Development: 24 chars\n",
      "INFO:report_generator:Processing section: Market Growth and Trends\n",
      "INFO:report_generator:  Added content for Market Growth and Trends: 19 chars\n",
      "INFO:report_generator:Processing section: Breadth Analysis\n",
      "INFO:report_generator:  Added content for Breadth Analysis: 22 chars\n",
      "INFO:report_generator:Processing section: Forces Analysis\n",
      "INFO:report_generator:  Added content for Forces Analysis: 21 chars\n",
      "INFO:report_generator:Processing section: Moat Identification\n",
      "INFO:report_generator:  Added content for Moat Identification: 25 chars\n",
      "INFO:report_generator:Processing section: Key Value Creation Drivers & Risks\n",
      "INFO:report_generator:  Added content for Key Value Creation Drivers & Risks: 30 chars\n",
      "INFO:report_generator:Processing section: Compensation & Ownership Structure\n",
      "INFO:report_generator:  Added content for Compensation & Ownership Structure: 25 chars\n",
      "INFO:report_generator:Processing section: Related-party transactions\n",
      "INFO:report_generator:  Added content for Related-party transactions: 32 chars\n",
      "INFO:report_generator:Processing section: Share repurchases\n",
      "INFO:report_generator:  Added content for Share repurchases: 23 chars\n",
      "INFO:report_generator:Processing section: Dividends\n",
      "INFO:report_generator:  Added content for Dividends: 15 chars\n",
      "INFO:report_generator:Processing section: Risk\n",
      "INFO:report_generator:  Added content for Risk: 19 chars\n",
      "INFO:report_generator:Processing section: Synergies\n",
      "INFO:report_generator:  Added content for Synergies: 15 chars\n",
      "INFO:report_generator:Processing section: Investment Criteria\n",
      "INFO:report_generator:  Added content for Investment Criteria: 25 chars\n",
      "INFO:report_generator:Processing section: Exit perspective\n",
      "INFO:report_generator:  Added content for Exit perspective: 22 chars\n",
      "INFO:report_generator:Processing section: Graveyard\n",
      "INFO:report_generator:  Added content for Graveyard: 24 chars\n",
      "INFO:report_generator:Building PDF document\n",
      "INFO:report_generator:Successfully generated report at reports/mock_teaser_report_999.pdf\n"
     ]
    },
    {
     "name": "stdout",
     "output_type": "stream",
     "text": [
      "Report generated successfully: reports/mock_teaser_report_999.pdf\n"
     ]
    }
   ],
   "source": [
    "# Define an async function to generate the report\n",
    "async def generate_mock_report():\n",
    "    filename = f'mock_teaser_report_{mock_teaser.id}.pdf'\n",
    "    report_path = await ReportGenerator.generate_report(mock_teaser.gpt_analysis, filename)\n",
    "    if report_path:\n",
    "        print(f'Report generated successfully: {report_path}')\n",
    "    else:\n",
    "        print('Failed to generate report.')\n",
    "\n",
    "# Run the async function\n",
    "await generate_mock_report()"
   ]
  }
 ],
 "metadata": {
  "kernelspec": {
   "display_name": "Python 3",
   "language": "python",
   "name": "python3"
  },
  "language_info": {
   "codemirror_mode": {
    "name": "ipython",
    "version": 3
   },
   "file_extension": ".py",
   "mimetype": "text/x-python",
   "name": "python",
   "nbconvert_exporter": "python",
   "pygments_lexer": "ipython3",
   "version": "3.12.4"
  }
 },
 "nbformat": 4,
 "nbformat_minor": 5
}
